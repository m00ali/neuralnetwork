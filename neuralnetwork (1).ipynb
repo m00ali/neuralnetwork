{
  "nbformat": 4,
  "nbformat_minor": 0,
  "metadata": {
    "colab": {
      "provenance": []
    },
    "kernelspec": {
      "name": "python3",
      "display_name": "Python 3"
    },
    "language_info": {
      "name": "python"
    }
  },
  "cells": [
    {
      "cell_type": "markdown",
      "source": [
        "**IMPORTING LIBRARIES**"
      ],
      "metadata": {
        "id": "GkKXfZUVV2v_"
      }
    },
    {
      "cell_type": "code",
      "execution_count": null,
      "metadata": {
        "id": "OGCe52ldijdK"
      },
      "outputs": [],
      "source": [
        "from tensorflow import keras\n",
        "from keras.models import Sequential\n",
        "from keras import Input\n",
        "from keras.layers import Dense\n",
        "from tensorflow.keras.utils import to_categorical\n",
        "import pandas as pd\n",
        "import numpy as np\n",
        "from sklearn.metrics import classification_report\n",
        "from sklearn.model_selection import train_test_split"
      ]
    },
    {
      "cell_type": "markdown",
      "source": [
        "**DATASET INFORMATION**"
      ],
      "metadata": {
        "id": "-lR8fNmMV8hK"
      }
    },
    {
      "cell_type": "code",
      "source": [
        "df=pd.read_csv('/content/extracted.csv', encoding='latin1')\n",
        "df"
      ],
      "metadata": {
        "colab": {
          "base_uri": "https://localhost:8080/",
          "height": 423
        },
        "id": "XtVhlfikjIqs",
        "outputId": "83ff42ce-8f30-4326-d524-0ccee3034956"
      },
      "execution_count": null,
      "outputs": [
        {
          "output_type": "execute_result",
          "data": {
            "text/plain": [
              "       Unnamed: 0                                    processed__text  \\\n",
              "0               0                                    responded going   \n",
              "1               1                            sooo sad miss san diego   \n",
              "2               2                                       bos bullying   \n",
              "3               3                              interview leave alone   \n",
              "4               4                     son put release already bought   \n",
              "...           ...                                                ...   \n",
              "27475       27476  wish could come see u denver husband lost job ...   \n",
              "27476       27477  wondered rake client made clear force devs lea...   \n",
              "27477       27478  yay good enjoy break probably need hectic week...   \n",
              "27478       27479                                              worth   \n",
              "27479       27480                   flirting going atg smile yay hug   \n",
              "\n",
              "       Positive Words  Negative Words  Neutral Words  sentiment  \n",
              "0                 0.0             0.0            2.0          1  \n",
              "1                 0.0             1.0            4.0          0  \n",
              "2                 0.0             1.0            1.0          0  \n",
              "3                 0.0             0.0            3.0          0  \n",
              "4                 0.0             0.0            5.0          0  \n",
              "...               ...             ...            ...        ...  \n",
              "27475             1.0             1.0            8.0          0  \n",
              "27476             1.0             0.0           11.0          0  \n",
              "27477             4.0             0.0            8.0          2  \n",
              "27478             0.0             0.0            1.0          2  \n",
              "27479             3.0             0.0            3.0          1  \n",
              "\n",
              "[27480 rows x 6 columns]"
            ],
            "text/html": [
              "\n",
              "\n",
              "  <div id=\"df-2c6e91e4-891b-4d70-9928-c7ae44bf44e6\">\n",
              "    <div class=\"colab-df-container\">\n",
              "      <div>\n",
              "<style scoped>\n",
              "    .dataframe tbody tr th:only-of-type {\n",
              "        vertical-align: middle;\n",
              "    }\n",
              "\n",
              "    .dataframe tbody tr th {\n",
              "        vertical-align: top;\n",
              "    }\n",
              "\n",
              "    .dataframe thead th {\n",
              "        text-align: right;\n",
              "    }\n",
              "</style>\n",
              "<table border=\"1\" class=\"dataframe\">\n",
              "  <thead>\n",
              "    <tr style=\"text-align: right;\">\n",
              "      <th></th>\n",
              "      <th>Unnamed: 0</th>\n",
              "      <th>processed__text</th>\n",
              "      <th>Positive Words</th>\n",
              "      <th>Negative Words</th>\n",
              "      <th>Neutral Words</th>\n",
              "      <th>sentiment</th>\n",
              "    </tr>\n",
              "  </thead>\n",
              "  <tbody>\n",
              "    <tr>\n",
              "      <th>0</th>\n",
              "      <td>0</td>\n",
              "      <td>responded going</td>\n",
              "      <td>0.0</td>\n",
              "      <td>0.0</td>\n",
              "      <td>2.0</td>\n",
              "      <td>1</td>\n",
              "    </tr>\n",
              "    <tr>\n",
              "      <th>1</th>\n",
              "      <td>1</td>\n",
              "      <td>sooo sad miss san diego</td>\n",
              "      <td>0.0</td>\n",
              "      <td>1.0</td>\n",
              "      <td>4.0</td>\n",
              "      <td>0</td>\n",
              "    </tr>\n",
              "    <tr>\n",
              "      <th>2</th>\n",
              "      <td>2</td>\n",
              "      <td>bos bullying</td>\n",
              "      <td>0.0</td>\n",
              "      <td>1.0</td>\n",
              "      <td>1.0</td>\n",
              "      <td>0</td>\n",
              "    </tr>\n",
              "    <tr>\n",
              "      <th>3</th>\n",
              "      <td>3</td>\n",
              "      <td>interview leave alone</td>\n",
              "      <td>0.0</td>\n",
              "      <td>0.0</td>\n",
              "      <td>3.0</td>\n",
              "      <td>0</td>\n",
              "    </tr>\n",
              "    <tr>\n",
              "      <th>4</th>\n",
              "      <td>4</td>\n",
              "      <td>son put release already bought</td>\n",
              "      <td>0.0</td>\n",
              "      <td>0.0</td>\n",
              "      <td>5.0</td>\n",
              "      <td>0</td>\n",
              "    </tr>\n",
              "    <tr>\n",
              "      <th>...</th>\n",
              "      <td>...</td>\n",
              "      <td>...</td>\n",
              "      <td>...</td>\n",
              "      <td>...</td>\n",
              "      <td>...</td>\n",
              "      <td>...</td>\n",
              "    </tr>\n",
              "    <tr>\n",
              "      <th>27475</th>\n",
              "      <td>27476</td>\n",
              "      <td>wish could come see u denver husband lost job ...</td>\n",
              "      <td>1.0</td>\n",
              "      <td>1.0</td>\n",
              "      <td>8.0</td>\n",
              "      <td>0</td>\n",
              "    </tr>\n",
              "    <tr>\n",
              "      <th>27476</th>\n",
              "      <td>27477</td>\n",
              "      <td>wondered rake client made clear force devs lea...</td>\n",
              "      <td>1.0</td>\n",
              "      <td>0.0</td>\n",
              "      <td>11.0</td>\n",
              "      <td>0</td>\n",
              "    </tr>\n",
              "    <tr>\n",
              "      <th>27477</th>\n",
              "      <td>27478</td>\n",
              "      <td>yay good enjoy break probably need hectic week...</td>\n",
              "      <td>4.0</td>\n",
              "      <td>0.0</td>\n",
              "      <td>8.0</td>\n",
              "      <td>2</td>\n",
              "    </tr>\n",
              "    <tr>\n",
              "      <th>27478</th>\n",
              "      <td>27479</td>\n",
              "      <td>worth</td>\n",
              "      <td>0.0</td>\n",
              "      <td>0.0</td>\n",
              "      <td>1.0</td>\n",
              "      <td>2</td>\n",
              "    </tr>\n",
              "    <tr>\n",
              "      <th>27479</th>\n",
              "      <td>27480</td>\n",
              "      <td>flirting going atg smile yay hug</td>\n",
              "      <td>3.0</td>\n",
              "      <td>0.0</td>\n",
              "      <td>3.0</td>\n",
              "      <td>1</td>\n",
              "    </tr>\n",
              "  </tbody>\n",
              "</table>\n",
              "<p>27480 rows × 6 columns</p>\n",
              "</div>\n",
              "      <button class=\"colab-df-convert\" onclick=\"convertToInteractive('df-2c6e91e4-891b-4d70-9928-c7ae44bf44e6')\"\n",
              "              title=\"Convert this dataframe to an interactive table.\"\n",
              "              style=\"display:none;\">\n",
              "\n",
              "  <svg xmlns=\"http://www.w3.org/2000/svg\" height=\"24px\"viewBox=\"0 0 24 24\"\n",
              "       width=\"24px\">\n",
              "    <path d=\"M0 0h24v24H0V0z\" fill=\"none\"/>\n",
              "    <path d=\"M18.56 5.44l.94 2.06.94-2.06 2.06-.94-2.06-.94-.94-2.06-.94 2.06-2.06.94zm-11 1L8.5 8.5l.94-2.06 2.06-.94-2.06-.94L8.5 2.5l-.94 2.06-2.06.94zm10 10l.94 2.06.94-2.06 2.06-.94-2.06-.94-.94-2.06-.94 2.06-2.06.94z\"/><path d=\"M17.41 7.96l-1.37-1.37c-.4-.4-.92-.59-1.43-.59-.52 0-1.04.2-1.43.59L10.3 9.45l-7.72 7.72c-.78.78-.78 2.05 0 2.83L4 21.41c.39.39.9.59 1.41.59.51 0 1.02-.2 1.41-.59l7.78-7.78 2.81-2.81c.8-.78.8-2.07 0-2.86zM5.41 20L4 18.59l7.72-7.72 1.47 1.35L5.41 20z\"/>\n",
              "  </svg>\n",
              "      </button>\n",
              "\n",
              "\n",
              "\n",
              "    <div id=\"df-a0edd68d-b8dc-4e39-b41a-defcf680ef9f\">\n",
              "      <button class=\"colab-df-quickchart\" onclick=\"quickchart('df-a0edd68d-b8dc-4e39-b41a-defcf680ef9f')\"\n",
              "              title=\"Suggest charts.\"\n",
              "              style=\"display:none;\">\n",
              "\n",
              "<svg xmlns=\"http://www.w3.org/2000/svg\" height=\"24px\"viewBox=\"0 0 24 24\"\n",
              "     width=\"24px\">\n",
              "    <g>\n",
              "        <path d=\"M19 3H5c-1.1 0-2 .9-2 2v14c0 1.1.9 2 2 2h14c1.1 0 2-.9 2-2V5c0-1.1-.9-2-2-2zM9 17H7v-7h2v7zm4 0h-2V7h2v10zm4 0h-2v-4h2v4z\"/>\n",
              "    </g>\n",
              "</svg>\n",
              "      </button>\n",
              "    </div>\n",
              "\n",
              "<style>\n",
              "  .colab-df-quickchart {\n",
              "    background-color: #E8F0FE;\n",
              "    border: none;\n",
              "    border-radius: 50%;\n",
              "    cursor: pointer;\n",
              "    display: none;\n",
              "    fill: #1967D2;\n",
              "    height: 32px;\n",
              "    padding: 0 0 0 0;\n",
              "    width: 32px;\n",
              "  }\n",
              "\n",
              "  .colab-df-quickchart:hover {\n",
              "    background-color: #E2EBFA;\n",
              "    box-shadow: 0px 1px 2px rgba(60, 64, 67, 0.3), 0px 1px 3px 1px rgba(60, 64, 67, 0.15);\n",
              "    fill: #174EA6;\n",
              "  }\n",
              "\n",
              "  [theme=dark] .colab-df-quickchart {\n",
              "    background-color: #3B4455;\n",
              "    fill: #D2E3FC;\n",
              "  }\n",
              "\n",
              "  [theme=dark] .colab-df-quickchart:hover {\n",
              "    background-color: #434B5C;\n",
              "    box-shadow: 0px 1px 3px 1px rgba(0, 0, 0, 0.15);\n",
              "    filter: drop-shadow(0px 1px 2px rgba(0, 0, 0, 0.3));\n",
              "    fill: #FFFFFF;\n",
              "  }\n",
              "</style>\n",
              "\n",
              "    <script>\n",
              "      async function quickchart(key) {\n",
              "        const containerElement = document.querySelector('#' + key);\n",
              "        const charts = await google.colab.kernel.invokeFunction(\n",
              "            'suggestCharts', [key], {});\n",
              "      }\n",
              "    </script>\n",
              "\n",
              "      <script>\n",
              "\n",
              "function displayQuickchartButton(domScope) {\n",
              "  let quickchartButtonEl =\n",
              "    domScope.querySelector('#df-a0edd68d-b8dc-4e39-b41a-defcf680ef9f button.colab-df-quickchart');\n",
              "  quickchartButtonEl.style.display =\n",
              "    google.colab.kernel.accessAllowed ? 'block' : 'none';\n",
              "}\n",
              "\n",
              "        displayQuickchartButton(document);\n",
              "      </script>\n",
              "      <style>\n",
              "    .colab-df-container {\n",
              "      display:flex;\n",
              "      flex-wrap:wrap;\n",
              "      gap: 12px;\n",
              "    }\n",
              "\n",
              "    .colab-df-convert {\n",
              "      background-color: #E8F0FE;\n",
              "      border: none;\n",
              "      border-radius: 50%;\n",
              "      cursor: pointer;\n",
              "      display: none;\n",
              "      fill: #1967D2;\n",
              "      height: 32px;\n",
              "      padding: 0 0 0 0;\n",
              "      width: 32px;\n",
              "    }\n",
              "\n",
              "    .colab-df-convert:hover {\n",
              "      background-color: #E2EBFA;\n",
              "      box-shadow: 0px 1px 2px rgba(60, 64, 67, 0.3), 0px 1px 3px 1px rgba(60, 64, 67, 0.15);\n",
              "      fill: #174EA6;\n",
              "    }\n",
              "\n",
              "    [theme=dark] .colab-df-convert {\n",
              "      background-color: #3B4455;\n",
              "      fill: #D2E3FC;\n",
              "    }\n",
              "\n",
              "    [theme=dark] .colab-df-convert:hover {\n",
              "      background-color: #434B5C;\n",
              "      box-shadow: 0px 1px 3px 1px rgba(0, 0, 0, 0.15);\n",
              "      filter: drop-shadow(0px 1px 2px rgba(0, 0, 0, 0.3));\n",
              "      fill: #FFFFFF;\n",
              "    }\n",
              "  </style>\n",
              "\n",
              "      <script>\n",
              "        const buttonEl =\n",
              "          document.querySelector('#df-2c6e91e4-891b-4d70-9928-c7ae44bf44e6 button.colab-df-convert');\n",
              "        buttonEl.style.display =\n",
              "          google.colab.kernel.accessAllowed ? 'block' : 'none';\n",
              "\n",
              "        async function convertToInteractive(key) {\n",
              "          const element = document.querySelector('#df-2c6e91e4-891b-4d70-9928-c7ae44bf44e6');\n",
              "          const dataTable =\n",
              "            await google.colab.kernel.invokeFunction('convertToInteractive',\n",
              "                                                     [key], {});\n",
              "          if (!dataTable) return;\n",
              "\n",
              "          const docLinkHtml = 'Like what you see? Visit the ' +\n",
              "            '<a target=\"_blank\" href=https://colab.research.google.com/notebooks/data_table.ipynb>data table notebook</a>'\n",
              "            + ' to learn more about interactive tables.';\n",
              "          element.innerHTML = '';\n",
              "          dataTable['output_type'] = 'display_data';\n",
              "          await google.colab.output.renderOutput(dataTable, element);\n",
              "          const docLink = document.createElement('div');\n",
              "          docLink.innerHTML = docLinkHtml;\n",
              "          element.appendChild(docLink);\n",
              "        }\n",
              "      </script>\n",
              "    </div>\n",
              "  </div>\n"
            ]
          },
          "metadata": {},
          "execution_count": 95
        }
      ]
    },
    {
      "cell_type": "code",
      "source": [
        "df.isnull().sum()"
      ],
      "metadata": {
        "colab": {
          "base_uri": "https://localhost:8080/"
        },
        "id": "rRjv91EWjXkX",
        "outputId": "6899676a-dc98-4930-c501-0a599b239c6e"
      },
      "execution_count": null,
      "outputs": [
        {
          "output_type": "execute_result",
          "data": {
            "text/plain": [
              "Unnamed: 0           0\n",
              "processed__text    105\n",
              "Positive Words     105\n",
              "Negative Words     105\n",
              "Neutral Words      105\n",
              "sentiment            0\n",
              "dtype: int64"
            ]
          },
          "metadata": {},
          "execution_count": 96
        }
      ]
    },
    {
      "cell_type": "code",
      "source": [
        "df=df.dropna()"
      ],
      "metadata": {
        "id": "twlqrEHOjfZ1"
      },
      "execution_count": null,
      "outputs": []
    },
    {
      "cell_type": "code",
      "source": [
        "df.isnull().sum()"
      ],
      "metadata": {
        "colab": {
          "base_uri": "https://localhost:8080/"
        },
        "id": "f0Ut9ZvdjiCZ",
        "outputId": "2afe7861-3f16-4a2d-d9d8-cdc465b6d676"
      },
      "execution_count": null,
      "outputs": [
        {
          "output_type": "execute_result",
          "data": {
            "text/plain": [
              "processed__text    0\n",
              "Positive Words     0\n",
              "Negative Words     0\n",
              "Neutral Words      0\n",
              "sentiment          0\n",
              "dtype: int64"
            ]
          },
          "metadata": {},
          "execution_count": 18
        }
      ]
    },
    {
      "cell_type": "code",
      "source": [
        "df.shape"
      ],
      "metadata": {
        "colab": {
          "base_uri": "https://localhost:8080/"
        },
        "id": "woMX_nVhjk61",
        "outputId": "fee0f507-d380-4f10-9b34-02f92acd0dab"
      },
      "execution_count": null,
      "outputs": [
        {
          "output_type": "execute_result",
          "data": {
            "text/plain": [
              "(27375, 6)"
            ]
          },
          "metadata": {},
          "execution_count": 98
        }
      ]
    },
    {
      "cell_type": "code",
      "source": [
        "X = df[['Positive Words','Negative Words','Neutral Words']]\n",
        "y= df[['sentiment']]"
      ],
      "metadata": {
        "id": "zDU5srLy4hhp"
      },
      "execution_count": null,
      "outputs": []
    },
    {
      "cell_type": "code",
      "source": [
        "y = pd.get_dummies(df['sentiment'])\n"
      ],
      "metadata": {
        "id": "n_66z-aJAv0Q"
      },
      "execution_count": null,
      "outputs": []
    },
    {
      "cell_type": "code",
      "source": [
        "print(y)"
      ],
      "metadata": {
        "colab": {
          "base_uri": "https://localhost:8080/"
        },
        "id": "71fXajmTdBa9",
        "outputId": "351f1f44-bdb9-4541-a71a-362a8d5c474f"
      },
      "execution_count": null,
      "outputs": [
        {
          "output_type": "stream",
          "name": "stdout",
          "text": [
            "       0  1  2\n",
            "0      0  1  0\n",
            "1      1  0  0\n",
            "2      1  0  0\n",
            "3      1  0  0\n",
            "4      1  0  0\n",
            "...   .. .. ..\n",
            "27475  1  0  0\n",
            "27476  1  0  0\n",
            "27477  0  0  1\n",
            "27478  0  0  1\n",
            "27479  0  1  0\n",
            "\n",
            "[27375 rows x 3 columns]\n"
          ]
        }
      ]
    },
    {
      "cell_type": "markdown",
      "source": [
        "**NEURAL NETWORK TRAINING**"
      ],
      "metadata": {
        "id": "iSKlx8tSWDkm"
      }
    },
    {
      "cell_type": "code",
      "source": [
        "X_train, X_test, y_train, y_test = train_test_split(X,y,test_size=0.20,random_state=42)\n",
        "model = Sequential(name='Sentiment_Analysis_using_3_Input_Features')\n",
        "model.add(Input(shape=(3,), name='Input_Layer'))\n",
        "model.add(Dense(2, activation='relu', name='Hidden_Layer'))\n",
        "model.add(Dense(3, activation='softmax', name='Output_Layer'))\n",
        "\n",
        "model.compile(optimizer='adam',\n",
        "              loss='categorical_crossentropy',\n",
        "              metrics=['Accuracy', 'Precision', 'Recall'],\n",
        "              loss_weights=None,\n",
        "              weighted_metrics=None,\n",
        "              run_eagerly=None,\n",
        "              steps_per_execution=None\n",
        "             )"
      ],
      "metadata": {
        "id": "JJr7L_mQ5Nbb"
      },
      "execution_count": null,
      "outputs": []
    },
    {
      "cell_type": "code",
      "source": [
        "model.fit(X_train, y_train,\n",
        "          batch_size=32,\n",
        "          epochs=25,\n",
        "          verbose='auto',\n",
        "          callbacks=None,\n",
        "          validation_split=0.2,\n",
        "          shuffle=True,\n",
        "          class_weight=None,\n",
        "          sample_weight=None,\n",
        "          initial_epoch=0,\n",
        "          steps_per_epoch=594,  # samples - (test_size * samples) / batch_size\n",
        "          validation_steps=None,\n",
        "          validation_batch_size=32,  # same as batch size\n",
        "          validation_freq=1,\n",
        "          max_queue_size=10,\n",
        "          workers=1,\n",
        "          use_multiprocessing=False)\n",
        "\n",
        "y_pred_probs = model.predict(X_test)\n",
        "y_pred_labels = np.argmax(y_pred_probs, axis=1)\n",
        "\n",
        "\n"
      ],
      "metadata": {
        "colab": {
          "base_uri": "https://localhost:8080/"
        },
        "id": "A7k6aq7NjnP7",
        "outputId": "d02a95c0-3709-4574-90d8-7397b4c9ae3f"
      },
      "execution_count": null,
      "outputs": [
        {
          "output_type": "stream",
          "name": "stdout",
          "text": [
            "Epoch 1/25\n",
            "594/594 [==============================] - 3s 4ms/step - loss: 1.2446 - Accuracy: 0.4137 - precision: 0.3923 - recall: 0.1472 - val_loss: 1.0409 - val_Accuracy: 0.4678 - val_precision: 0.5149 - val_recall: 0.0514\n",
            "Epoch 2/25\n",
            "594/594 [==============================] - 1s 2ms/step - loss: 1.0193 - Accuracy: 0.4823 - precision: 0.5936 - recall: 0.0676 - val_loss: 1.0118 - val_Accuracy: 0.4692 - val_precision: 0.6161 - val_recall: 0.1048\n",
            "Epoch 3/25\n",
            "594/594 [==============================] - 1s 2ms/step - loss: 0.9927 - Accuracy: 0.4804 - precision: 0.6110 - recall: 0.2164 - val_loss: 0.9774 - val_Accuracy: 0.4820 - val_precision: 0.6524 - val_recall: 0.1256\n",
            "Epoch 4/25\n",
            "594/594 [==============================] - 1s 2ms/step - loss: 0.9590 - Accuracy: 0.4946 - precision: 0.6120 - recall: 0.2025 - val_loss: 0.9523 - val_Accuracy: 0.5210 - val_precision: 0.6634 - val_recall: 0.1247\n",
            "Epoch 5/25\n",
            "594/594 [==============================] - 1s 2ms/step - loss: 0.9454 - Accuracy: 0.5141 - precision: 0.6849 - recall: 0.1333 - val_loss: 0.9364 - val_Accuracy: 0.5217 - val_precision: 0.6891 - val_recall: 0.1215\n",
            "Epoch 6/25\n",
            "594/594 [==============================] - 1s 2ms/step - loss: 0.9337 - Accuracy: 0.5256 - precision: 0.7070 - recall: 0.1308 - val_loss: 0.9253 - val_Accuracy: 0.5139 - val_precision: 0.7194 - val_recall: 0.1183\n",
            "Epoch 7/25\n",
            "594/594 [==============================] - 1s 2ms/step - loss: 0.9259 - Accuracy: 0.5306 - precision: 0.7223 - recall: 0.1263 - val_loss: 0.9168 - val_Accuracy: 0.5308 - val_precision: 0.7191 - val_recall: 0.1180\n",
            "Epoch 8/25\n",
            "594/594 [==============================] - 1s 2ms/step - loss: 0.9122 - Accuracy: 0.5698 - precision: 0.7237 - recall: 0.1274 - val_loss: 0.9094 - val_Accuracy: 0.6322 - val_precision: 0.7191 - val_recall: 0.1180\n",
            "Epoch 9/25\n",
            "594/594 [==============================] - 2s 3ms/step - loss: 0.9051 - Accuracy: 0.6246 - precision: 0.7261 - recall: 0.1266 - val_loss: 0.9032 - val_Accuracy: 0.6032 - val_precision: 0.7191 - val_recall: 0.1180\n",
            "Epoch 10/25\n",
            "594/594 [==============================] - 2s 3ms/step - loss: 0.9040 - Accuracy: 0.6259 - precision: 0.7459 - recall: 0.2112 - val_loss: 0.8983 - val_Accuracy: 0.6105 - val_precision: 0.7447 - val_recall: 0.2390\n",
            "Epoch 11/25\n",
            "594/594 [==============================] - 1s 2ms/step - loss: 0.8982 - Accuracy: 0.6170 - precision: 0.7484 - recall: 0.2424 - val_loss: 0.8942 - val_Accuracy: 0.6283 - val_precision: 0.7443 - val_recall: 0.2393\n",
            "Epoch 12/25\n",
            "594/594 [==============================] - 1s 2ms/step - loss: 0.8940 - Accuracy: 0.6296 - precision: 0.7482 - recall: 0.2457 - val_loss: 0.8918 - val_Accuracy: 0.6285 - val_precision: 0.7447 - val_recall: 0.2390\n",
            "Epoch 13/25\n",
            "594/594 [==============================] - 1s 2ms/step - loss: 0.8916 - Accuracy: 0.6249 - precision: 0.7456 - recall: 0.2445 - val_loss: 0.8885 - val_Accuracy: 0.6217 - val_precision: 0.7384 - val_recall: 0.2404\n",
            "Epoch 14/25\n",
            "594/594 [==============================] - 1s 2ms/step - loss: 0.8884 - Accuracy: 0.6294 - precision: 0.7452 - recall: 0.2461 - val_loss: 0.8864 - val_Accuracy: 0.6135 - val_precision: 0.7378 - val_recall: 0.2416\n",
            "Epoch 15/25\n",
            "594/594 [==============================] - 1s 2ms/step - loss: 0.8875 - Accuracy: 0.6253 - precision: 0.7505 - recall: 0.2482 - val_loss: 0.8846 - val_Accuracy: 0.6267 - val_precision: 0.7379 - val_recall: 0.2404\n",
            "Epoch 16/25\n",
            "594/594 [==============================] - 1s 2ms/step - loss: 0.8872 - Accuracy: 0.6276 - precision: 0.7455 - recall: 0.2467 - val_loss: 0.8842 - val_Accuracy: 0.6283 - val_precision: 0.7284 - val_recall: 0.2468\n",
            "Epoch 17/25\n",
            "594/594 [==============================] - 1s 2ms/step - loss: 0.8814 - Accuracy: 0.6249 - precision: 0.7424 - recall: 0.2539 - val_loss: 0.8825 - val_Accuracy: 0.6128 - val_precision: 0.7345 - val_recall: 0.2438\n",
            "Epoch 18/25\n",
            "594/594 [==============================] - 2s 3ms/step - loss: 0.8898 - Accuracy: 0.6212 - precision: 0.7390 - recall: 0.2516 - val_loss: 0.8832 - val_Accuracy: 0.6304 - val_precision: 0.7443 - val_recall: 0.2393\n",
            "Epoch 19/25\n",
            "594/594 [==============================] - 2s 3ms/step - loss: 0.8829 - Accuracy: 0.6273 - precision: 0.7469 - recall: 0.2475 - val_loss: 0.8814 - val_Accuracy: 0.6217 - val_precision: 0.7335 - val_recall: 0.2438\n",
            "Epoch 20/25\n",
            "594/594 [==============================] - 1s 2ms/step - loss: 0.8803 - Accuracy: 0.6235 - precision: 0.7326 - recall: 0.2766 - val_loss: 0.8814 - val_Accuracy: 0.6153 - val_precision: 0.7291 - val_recall: 0.2463\n",
            "Epoch 21/25\n",
            "594/594 [==============================] - 1s 2ms/step - loss: 0.8789 - Accuracy: 0.6248 - precision: 0.7397 - recall: 0.2667 - val_loss: 0.8806 - val_Accuracy: 0.6130 - val_precision: 0.7286 - val_recall: 0.2463\n",
            "Epoch 22/25\n",
            "594/594 [==============================] - 1s 2ms/step - loss: 0.8828 - Accuracy: 0.6289 - precision: 0.7385 - recall: 0.2713 - val_loss: 0.8812 - val_Accuracy: 0.6128 - val_precision: 0.6925 - val_recall: 0.4411\n",
            "Epoch 23/25\n",
            "594/594 [==============================] - 1s 2ms/step - loss: 0.8823 - Accuracy: 0.6243 - precision: 0.7211 - recall: 0.3420 - val_loss: 0.8804 - val_Accuracy: 0.6215 - val_precision: 0.7227 - val_recall: 0.3005\n",
            "Epoch 24/25\n",
            " 26/594 [>.............................] - ETA: 1s - loss: 0.9009 - Accuracy: 0.6118 - precision: 0.7245 - recall: 0.2308"
          ]
        },
        {
          "output_type": "stream",
          "name": "stderr",
          "text": [
            "WARNING:tensorflow:Your input ran out of data; interrupting training. Make sure that your dataset or generator can generate at least `steps_per_epoch * epochs` batches (in this case, 14850 batches). You may need to use the repeat() function when building your dataset.\n"
          ]
        },
        {
          "output_type": "stream",
          "name": "stdout",
          "text": [
            "594/594 [==============================] - 0s 459us/step - loss: 0.9025 - Accuracy: 0.6125 - precision: 0.7294 - recall: 0.2292 - val_loss: 0.8804 - val_Accuracy: 0.6217 - val_precision: 0.7286 - val_recall: 0.2463\n",
            "172/172 [==============================] - 0s 2ms/step\n"
          ]
        }
      ]
    },
    {
      "cell_type": "code",
      "source": [
        "print('-------------------- Model Summary --------------------')\n",
        "model.summary()\n",
        "print(\"\")\n",
        "\n",
        "print('---------- Evaluation on Training Data ----------')\n",
        "y_train_pred_probs = model.predict(X_train)\n",
        "y_train_pred_labels = np.argmax(y_train_pred_probs, axis=1)\n",
        "print(classification_report(np.argmax(y_train.values, axis=1), y_train_pred_labels))\n",
        "\n",
        "print('---------- Evaluation on Test Data ----------')\n",
        "y_test_pred_probs = model.predict(X_test)\n",
        "y_test_pred_labels = np.argmax(y_test_pred_probs, axis=1)\n",
        "print(classification_report(np.argmax(y_test.values, axis=1), y_test_pred_labels))"
      ],
      "metadata": {
        "colab": {
          "base_uri": "https://localhost:8080/"
        },
        "id": "uW4FIJ0zBRhB",
        "outputId": "faf6fe00-be14-4f47-8a15-bc24f26f6b27"
      },
      "execution_count": null,
      "outputs": [
        {
          "output_type": "stream",
          "name": "stdout",
          "text": [
            "-------------------- Model Summary --------------------\n",
            "Model: \"Sentiment_Analysis_using_3_Input_Features\"\n",
            "_________________________________________________________________\n",
            " Layer (type)                Output Shape              Param #   \n",
            "=================================================================\n",
            " Hidden_Layer (Dense)        (None, 2)                 8         \n",
            "                                                                 \n",
            " Output_Layer (Dense)        (None, 3)                 9         \n",
            "                                                                 \n",
            "=================================================================\n",
            "Total params: 17\n",
            "Trainable params: 17\n",
            "Non-trainable params: 0\n",
            "_________________________________________________________________\n",
            "\n",
            "---------- Evaluation on Training Data ----------\n",
            "685/685 [==============================] - 1s 1ms/step\n",
            "              precision    recall  f1-score   support\n",
            "\n",
            "           0       0.70      0.49      0.58      6237\n",
            "           1       0.57      0.73      0.64      8850\n",
            "           2       0.68      0.62      0.65      6813\n",
            "\n",
            "    accuracy                           0.63     21900\n",
            "   macro avg       0.65      0.61      0.62     21900\n",
            "weighted avg       0.64      0.63      0.62     21900\n",
            "\n",
            "---------- Evaluation on Test Data ----------\n",
            "172/172 [==============================] - 0s 1ms/step\n",
            "              precision    recall  f1-score   support\n",
            "\n",
            "           0       0.71      0.50      0.58      1540\n",
            "           1       0.55      0.73      0.63      2170\n",
            "           2       0.70      0.61      0.65      1765\n",
            "\n",
            "    accuracy                           0.62      5475\n",
            "   macro avg       0.65      0.61      0.62      5475\n",
            "weighted avg       0.64      0.62      0.62      5475\n",
            "\n"
          ]
        }
      ]
    }
  ]
}